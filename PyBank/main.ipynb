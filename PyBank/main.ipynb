{
 "cells": [
  {
   "cell_type": "code",
   "execution_count": 13,
   "id": "7761fd66-67ef-43d1-adad-716115e207c3",
   "metadata": {},
   "outputs": [],
   "source": [
    "#Import library and csv file\n",
    "from pathlib import Path\n",
    "import csv\n",
    "csvpath = Path('../PyBank/budget_data.csv')"
   ]
  },
  {
   "cell_type": "code",
   "execution_count": 14,
   "id": "e7cdcdde-3286-420d-b1dc-5b213d0bafa6",
   "metadata": {},
   "outputs": [],
   "source": [
    "months = [] #Initialized variables to hold 'Date' and Profit/Loss' values from budget.csv\n",
    "pnl = [] \n",
    "line_num = 0\n",
    "#budget_dict = {}\n",
    "def calc_change(prev_pl, current_pl):\n",
    "    change = prev_pl - current_pl\n",
    "    return change"
   ]
  },
  {
   "cell_type": "code",
   "execution_count": 15,
   "id": "8cc9a0ee-8ffe-46e3-a92a-34eeb36cfd3b",
   "metadata": {},
   "outputs": [],
   "source": [
    "with open(csvpath, 'r') as csvfile:\n",
    "    csvreader = csv.reader(csvfile, delimiter=\",\")\n",
    "    csv_header = next(csvreader)\n",
    "    line_num += 1\n",
    "   \n",
    "    \n",
    "   # print(csv_header)\n",
    "\n",
    "    for row in csvreader:\n",
    "        # print(row)\n",
    "        date = str(row[0])\n",
    "        profit_loss = int(row[1])\n",
    "        months.append(date)\n",
    "        pnl.append(profit_loss)"
   ]
  },
  {
   "cell_type": "code",
   "execution_count": 16,
   "id": "e387e7e7-898d-44c2-854d-d5a6539f7e77",
   "metadata": {},
   "outputs": [],
   "source": [
    "# with open(csvpath, 'r') as csvfile:\n",
    "#     csvreader = csv.DictReader(csvfile, delimiter=\",\")\n",
    "#     line_num += 1\n",
    "    \n",
    "#     for row in csvreader:\n",
    "#         print(row)\n",
    "#         budget_dict.update(csvreader)"
   ]
  },
  {
   "cell_type": "code",
   "execution_count": 17,
   "id": "29691cdb-92cc-42cb-8fda-d8314da69d2e",
   "metadata": {},
   "outputs": [],
   "source": [
    "total_months = 0\n",
    "total_pl = 0\n",
    "avg_change = 0\n",
    "max_increase = 0\n",
    "max_decrease = 0"
   ]
  },
  {
   "cell_type": "code",
   "execution_count": 18,
   "id": "be9a93c1-7852-44e7-b899-0bc0943a8cae",
   "metadata": {},
   "outputs": [
    {
     "name": "stdout",
     "output_type": "stream",
     "text": [
      "86\n"
     ]
    }
   ],
   "source": [
    "total_months = len(months)\n",
    "print(total_months)"
   ]
  },
  {
   "cell_type": "code",
   "execution_count": 19,
   "id": "db52b072-9715-4232-9ba5-3a72b8de8ac9",
   "metadata": {},
   "outputs": [
    {
     "name": "stdout",
     "output_type": "stream",
     "text": [
      "38382578\n"
     ]
    }
   ],
   "source": [
    "total_pl = sum(pnl)\n",
    "print(total_pl)"
   ]
  },
  {
   "cell_type": "code",
   "execution_count": 20,
   "id": "537074d9-d7b0-4f3d-b39a-ecbd79936d66",
   "metadata": {},
   "outputs": [
    {
     "ename": "NameError",
     "evalue": "name 'calc_average' is not defined",
     "output_type": "error",
     "traceback": [
      "\u001b[0;31m---------------------------------------------------------------------------\u001b[0m",
      "\u001b[0;31mNameError\u001b[0m                                 Traceback (most recent call last)",
      "\u001b[0;32m/var/folders/zd/177pbk7526b8z7j4f5kq9pbc0000gn/T/ipykernel_2817/3742477879.py\u001b[0m in \u001b[0;36m<module>\u001b[0;34m\u001b[0m\n\u001b[1;32m      5\u001b[0m     \u001b[0mavg\u001b[0m \u001b[0;34m=\u001b[0m \u001b[0msum_num\u001b[0m \u001b[0;34m/\u001b[0m \u001b[0mlen\u001b[0m\u001b[0;34m(\u001b[0m\u001b[0mpnl\u001b[0m\u001b[0;34m)\u001b[0m\u001b[0;34m\u001b[0m\u001b[0;34m\u001b[0m\u001b[0m\n\u001b[1;32m      6\u001b[0m     \u001b[0;32mreturn\u001b[0m \u001b[0mavg\u001b[0m\u001b[0;34m\u001b[0m\u001b[0;34m\u001b[0m\u001b[0m\n\u001b[0;32m----> 7\u001b[0;31m \u001b[0mprint\u001b[0m\u001b[0;34m(\u001b[0m\u001b[0;34m\"The average is \"\u001b[0m\u001b[0;34m,\u001b[0m \u001b[0mcalc_average\u001b[0m\u001b[0;34m(\u001b[0m\u001b[0mpnl\u001b[0m\u001b[0;34m)\u001b[0m\u001b[0;34m)\u001b[0m\u001b[0;34m\u001b[0m\u001b[0;34m\u001b[0m\u001b[0m\n\u001b[0m",
      "\u001b[0;31mNameError\u001b[0m: name 'calc_average' is not defined"
     ]
    }
   ],
   "source": [
    "def cal_average(num):\n",
    "    sum_num = 0\n",
    "    for t in pnl:\n",
    "            sum_num = sum_num + t\n",
    "    avg = sum_num / len(pnl)\n",
    "    return avg\n",
    "print(\"The average is \", calc_average(pnl))\n"
   ]
  },
  {
   "cell_type": "code",
   "execution_count": null,
   "id": "e4f8aeb5-5f2d-479d-b7d5-c403660ca9ca",
   "metadata": {},
   "outputs": [],
   "source": [
    "for current_pnl in pnl:\n",
    "    if current_pnl == pnl[0]:\n",
    "        row = False\n",
    "    else:\n",
    "        calc_change(prev_pnl, current_pnl)\n",
    "return"
   ]
  },
  {
   "cell_type": "code",
   "execution_count": null,
   "id": "9b491b7c-77df-4335-939f-cc6393705047",
   "metadata": {},
   "outputs": [],
   "source": [
    "print(f\"Total Months: {total_months}\"\n",
    "print(f\"Total Profit/Loss: ${total_pl}\")\n",
    "print(f\"Average Change: {avg_change}\"\n",
    "print(f\"Greatest Increase in Profits:\n",
    "print(f\"Greatest Decrease in Profits:\n"
   ]
  }
 ],
 "metadata": {
  "kernelspec": {
   "display_name": "Python 3 (ipykernel)",
   "language": "python",
   "name": "python3"
  },
  "language_info": {
   "codemirror_mode": {
    "name": "ipython",
    "version": 3
   },
   "file_extension": ".py",
   "mimetype": "text/x-python",
   "name": "python",
   "nbconvert_exporter": "python",
   "pygments_lexer": "ipython3",
   "version": "3.8.8"
  }
 },
 "nbformat": 4,
 "nbformat_minor": 5
}
