{
 "cells": [
  {
   "cell_type": "code",
   "execution_count": 13,
   "id": "7761fd66-67ef-43d1-adad-716115e207c3",
   "metadata": {},
   "outputs": [],
   "source": [
    "#Import library, module and csv file\n",
    "from pathlib import Path\n",
    "import csv\n",
    "csvpath = Path('../PyBank/budget_data.csv')\n",
    "\n",
    "#Initialize variables\n",
    "months = [] \n",
    "profit_loss = []\n",
    "line_num = 0\n",
    "total_months = 0\n",
    "total_pl = 0\n",
    "pnl_diff = 0\n",
    "avg_diff = 0\n",
    "\n",
    "\n",
    "# open and read csv file, read the header and parse the file line by line\n",
    "with open(csvpath, 'r') as csvfile:\n",
    "    csvreader = csv.reader(csvfile, delimiter=\",\")\n",
    "    csv_header = next(csvreader)\n",
    "    line_num += 1\n",
    "\n",
    "    #Read each row after the header and store column data to lists\n",
    "    for row in csvreader:\n",
    "        months_col = str(row[0])\n",
    "        profit_loss_col = int(row[1])\n",
    "        months.append(months_col)\n",
    "        profit_loss.append(profit_loss_col)"
   ]
  },
  {
   "cell_type": "code",
   "execution_count": 15,
   "id": "8cc9a0ee-8ffe-46e3-a92a-34eeb36cfd3b",
   "metadata": {},
   "outputs": [],
   "source": [
    "#Calculate total # of months\n",
    "total_months = len(months)\n",
    "print(total_months)"
   ]
  },
  {
   "cell_type": "code",
   "execution_count": 17,
   "id": "29691cdb-92cc-42cb-8fda-d8314da69d2e",
   "metadata": {},
   "outputs": [],
   "source": [
    "#Calculate total net amount of profit/loss\n",
    "total_pl = sum(profit_loss)\n",
    "print(total_pl)"
   ]
  },
  {
   "cell_type": "code",
   "execution_count": 18,
   "id": "be9a93c1-7852-44e7-b899-0bc0943a8cae",
   "metadata": {},
   "outputs": [
    {
     "name": "stdout",
     "output_type": "stream",
     "text": [
      "86\n"
     ]
    }
   ],
   "source": [
    "#Calculate profit/loss differences\n",
    "# Code Resource: https://www.geeksforgeeks.org/python-generate-successive-element-difference-list/?ref=gcse\n",
    "pnl_diff = [profit_loss[i + 1] - profit_loss[i] \n",
    "    for i in range(len(profit_loss)-1)]\n",
    "#Insert \n",
    "pnl_diff.insert(0, 0)\n",
    "print(pnl_diff)"
   ]
  },
  {
   "cell_type": "code",
   "execution_count": 19,
   "id": "db52b072-9715-4232-9ba5-3a72b8de8ac9",
   "metadata": {},
   "outputs": [
    {
     "name": "stdout",
     "output_type": "stream",
     "text": [
      "38382578\n"
     ]
    }
   ],
   "source": [
    "#Calculate Average Difference\n",
    "avg_diff = sum(pnl_diff) / total_months\n",
    "print(avg_diff)\n",
    "\n",
    "#Greatest Profit\n",
    "# Code Resource - https://www.w3schools.com/python/ref_func_max.asp\n",
    "greatest_profit = max(pnl_diff)\n",
    "greatest_profit"
   ]
  },
  {
   "cell_type": "code",
   "execution_count": 20,
   "id": "537074d9-d7b0-4f3d-b39a-ecbd79936d66",
   "metadata": {},
   "outputs": [
    {
     "ename": "NameError",
     "evalue": "name 'calc_average' is not defined",
     "output_type": "error",
     "traceback": [
      "\u001b[0;31m---------------------------------------------------------------------------\u001b[0m",
      "\u001b[0;31mNameError\u001b[0m                                 Traceback (most recent call last)",
      "\u001b[0;32m/var/folders/zd/177pbk7526b8z7j4f5kq9pbc0000gn/T/ipykernel_2817/3742477879.py\u001b[0m in \u001b[0;36m<module>\u001b[0;34m\u001b[0m\n\u001b[1;32m      5\u001b[0m     \u001b[0mavg\u001b[0m \u001b[0;34m=\u001b[0m \u001b[0msum_num\u001b[0m \u001b[0;34m/\u001b[0m \u001b[0mlen\u001b[0m\u001b[0;34m(\u001b[0m\u001b[0mpnl\u001b[0m\u001b[0;34m)\u001b[0m\u001b[0;34m\u001b[0m\u001b[0;34m\u001b[0m\u001b[0m\n\u001b[1;32m      6\u001b[0m     \u001b[0;32mreturn\u001b[0m \u001b[0mavg\u001b[0m\u001b[0;34m\u001b[0m\u001b[0;34m\u001b[0m\u001b[0m\n\u001b[0;32m----> 7\u001b[0;31m \u001b[0mprint\u001b[0m\u001b[0;34m(\u001b[0m\u001b[0;34m\"The average is \"\u001b[0m\u001b[0;34m,\u001b[0m \u001b[0mcalc_average\u001b[0m\u001b[0;34m(\u001b[0m\u001b[0mpnl\u001b[0m\u001b[0;34m)\u001b[0m\u001b[0;34m)\u001b[0m\u001b[0;34m\u001b[0m\u001b[0;34m\u001b[0m\u001b[0m\n\u001b[0m",
      "\u001b[0;31mNameError\u001b[0m: name 'calc_average' is not defined"
     ]
    }
   ],
   "source": [
    "#Greatest Loss\n",
    "#Code Resource - https://www.w3schools.com/python/ref_func_min.asp\n",
    "greatest_loss = min(pnl_diff)\n",
    "greatest_loss\n"
   ]
  },
  {
   "cell_type": "code",
   "execution_count": null,
   "id": "e4f8aeb5-5f2d-479d-b7d5-c403660ca9ca",
   "metadata": {},
   "outputs": [],
   "source": [
    "great_loss_date = months[44]\n",
    "\n",
    "great_profit_date = months[25]"
   ]
  },
  {
   "cell_type": "code",
   "execution_count": null,
   "id": "9b491b7c-77df-4335-939f-cc6393705047",
   "metadata": {},
   "outputs": [],
   "source": [
    "#Write to text file\n",
    "with open('../PyBank/output.txt', 'w') as text:\n",
    "    text.write(\"Financial Analysis\" \"\\n\")\n",
    "    text.write(\"---------------------\" \"\\n\")\n",
    "    text.write(f\"Total Months: {total_pl}\" \"\\n\")\n",
    "    text.write(f\"Total: ${total_pl}\" \"\\n\")\n",
    "    text.write(f\"Average Change: ${avg_diff}\" \"\\n\")\n",
    "    text.write(f\"Greatest Increase in Profits: {great_profit_date} ${greatest_profit}\" \"\\n\")\n",
    "    text.write(f\"Greatest Decrease in Profits: {great_loss_date} ${greatest_loss}\" \"\\n\")\n"
   ]
  }
 ],
 "metadata": {
  "kernelspec": {
   "display_name": "Python 3 (ipykernel)",
   "language": "python",
   "name": "python3"
  },
  "language_info": {
   "codemirror_mode": {
    "name": "ipython",
    "version": 3
   },
   "file_extension": ".py",
   "mimetype": "text/x-python",
   "name": "python",
   "nbconvert_exporter": "python",
   "pygments_lexer": "ipython3",
   "version": "3.8.8"
  }
 },
 "nbformat": 4,
 "nbformat_minor": 5
}
